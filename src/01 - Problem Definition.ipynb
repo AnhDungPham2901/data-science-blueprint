{
 "cells": [
  {
   "cell_type": "markdown",
   "metadata": {
    "application/vnd.databricks.v1+cell": {
     "cellMetadata": {},
     "inputWidgets": {},
     "nuid": "85b71362-eaeb-48ed-9b22-31ad93f9af96",
     "showTitle": false,
     "tableResultSettingsMap": {},
     "title": ""
    }
   },
   "source": [
    "In a fuzzy world of business, it is nevery easy to define a problem well. Why is it? \n",
    "- We likely have limited business understanding: We are from a technical side with limited understanding about an operational function. The first time we hear about a project, it is kind a 1000 scenarios can come to your mind. It is so confusing. \n",
    "\n",
    "- Most of the time we receive requirements through an intermediate person: The intermediate persons can be BA/PO/DS Manager, Head of data, etc. In an ideal world, the intermediate person will help us understand exactly the business problems that we need to solve. And be able to answers all the questions around to help us understand deeply about a problem. They are the one who can speak 'business language' and 'data science language' to help us easily grapse the problem. And from that with some experiences and guidances from seniors team members and leaders we soon and easily map into a data science problem. \n",
    "But most of the time, we see the intermidate person does not speak data science language and sometimes they map for us the solution which might not be the solution we agree with and planed to go with. Or they don't speak business language, and worst understand incorrectly what business team wants. \n",
    "\n",
    "You might ask why not remove the intermediate person and let DS team talk directly to the business. I have experienced so many situation where no alignment and even madness after a meeting with business. And I agree that there are some situation the DS play the role more than great.\n",
    "\n",
    "Just a problem definition phase, but so many things we have to handle, isn't it? \n",
    "\n",
    "And from my perspective, we can never avoid those situation. What we can control is to equip our self some toolkits to thrive on those situation and get what we want at this stage to go to next steps which are our DS favarite one 'Playing with data'.\n",
    "\n",
    "But before thinking about and touching data. In personally believe that taking a step back to well define a problem is half success in our problem solving journey. I have seen so many DS just receiving the problems statement and then go directly to data and modling phase. Which I dont think it works to follow this process.\n",
    "\n",
    "So what do we do in this phase? In short: try to understand the real business problem. It is vague and very general statement. Our question is how? \n"
   ]
  },
  {
   "cell_type": "code",
   "execution_count": 0,
   "metadata": {
    "application/vnd.databricks.v1+cell": {
     "cellMetadata": {},
     "inputWidgets": {},
     "nuid": "9ca41db7-e5e3-40c0-875f-d142b2b280be",
     "showTitle": false,
     "tableResultSettingsMap": {},
     "title": ""
    }
   },
   "outputs": [],
   "source": []
  }
 ],
 "metadata": {
  "application/vnd.databricks.v1+notebook": {
   "computePreferences": null,
   "dashboards": [],
   "environmentMetadata": {
    "base_environment": "",
    "environment_version": "2"
   },
   "language": "python",
   "notebookMetadata": {
    "pythonIndentUnit": 2
   },
   "notebookName": "01 - Problem Definition",
   "widgets": {}
  },
  "language_info": {
   "name": "python"
  }
 },
 "nbformat": 4,
 "nbformat_minor": 0
}