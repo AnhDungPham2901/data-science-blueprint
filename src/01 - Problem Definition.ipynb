{
 "cells": [
  {
   "cell_type": "markdown",
   "metadata": {
    "application/vnd.databricks.v1+cell": {
     "cellMetadata": {},
     "inputWidgets": {},
     "nuid": "85b71362-eaeb-48ed-9b22-31ad93f9af96",
     "showTitle": false,
     "tableResultSettingsMap": {},
     "title": ""
    }
   },
   "source": [
    "In a fuzzy world of business, it is nevery easy to define a problem well. Why is it? \n",
    "- We likely have limited business understanding: We are from a technical side with limited understanding about an operational function. The first time we hear about a project, it is kind a 1000 scenarios can come to your mind. It is so confusing. \n",
    "\n",
    "- Most of the time we receive requirements through an intermediate person: The intermediate persons can be BA/PO/DS Manager, Head of data, etc. In an ideal world, the intermediate person will help us understand exactly the business problems that we need to solve. And be able to answers all the questions around to help us understand deeply about a problem. They are the one who can speak 'business language' and 'data science language' to help us easily grapse the problem. And from that with some experiences and guidances from seniors team members and leaders we soon and easily map into a data science problem. \n",
    "But most of the time, we see the intermidate person does not speak data science language and sometimes they map for us the solution which might not be the solution we agree with and planed to go with. Or they don't speak business language, and worst understand incorrectly what business team wants. \n",
    "\n",
    "You might ask why not remove the intermediate person and let DS team talk directly to the business. I have experienced so many situation where no alignment and even madness after a meeting with business. And I agree that there are some situation the DS play the role more than great.\n",
    "\n",
    "Just a problem definition phase, but so many things we have to handle, isn't it? \n",
    "\n",
    "And from my perspective, we can never avoid those situation. What we can control is to equip our self some toolkits to thrive on those situation and get what we want at this stage to go to next steps which are our DS favarite one 'Playing with data'.\n",
    "\n",
    "But before thinking about and touching data. In personally believe that taking a step back to well define a problem is half success in our problem solving journey. I have seen so many DS just receiving the problems statement and then go directly to data and modling phase. Which I dont think it works to follow this process.\n",
    "\n",
    "So what do we do in this phase? In short: try to understand the real business problem. It is vague and very general statement. Our question is how? \n"
   ]
  },
  {
   "cell_type": "markdown",
   "metadata": {
    "application/vnd.databricks.v1+cell": {
     "cellMetadata": {},
     "inputWidgets": {},
     "nuid": "9ca41db7-e5e3-40c0-875f-d142b2b280be",
     "showTitle": false,
     "tableResultSettingsMap": {},
     "title": ""
    }
   },
   "source": [
    "The end goal by the end of this phase is to form a problem solvable by using data. But what exactly the DS problem? It can be a forecasting problem, classification problem, clustering problem, deep dive analysis problem?\n",
    "\n",
    "In order to reach to this point we must go through many steps. \n",
    "\n",
    "I am sharing my approaches \n",
    "\n",
    "First Step: Receiving business requirement.\n",
    "This is a step where our critical thinking shines. So many times we heard something like: \"Improve voucher redemption rate of our platform by recommend the most interest vouchers to users\", \"Please build a model to predict who will churn in the next 30 days for paying billing feature\", \"Please help me rank tasks for user to complete \", etc...\n",
    "\n",
    "All I can share is how to uncover the true business problem. Not simply follow the requirements. In those case I find it useful to apply 5W 1H. It is theorial but it works for me. \n",
    "\n",
    "I asksed a lot of questions. And keep remembering that forgetting the solutions please telling me your problem. I am going to give you a suitable solutions.\n",
    "\n",
    "By keeping asking why, Not only we learn alot about business knowledge around. But also gain insights for the solution design phase. \n",
    "\n",
    "\"Reminding users top interests vouchers of a user to boost redemption rate\". If you receive a requirement like this, what would you approach? Going back to your desk and quickly design a ranking vouchers model for those who had received vouchers? \n",
    "\n",
    "But for me, I will spend \"few hours\" to ask the person who give me the request. Like what is the current redemption rate of the platform? what is the process to give users voucher based on which conditions? vouchers value range? How many vouchers are given to users in average of each month? Are they too much to need a ranking model? Why we must find top interests vouchers, Is it supposed to be attractiveness for users once we decided to give them the vouchers? Where are the features deployed? via SMS? Any specific? And so many more....."
   ]
  },
  {
   "cell_type": "markdown",
   "metadata": {},
   "source": []
  }
 ],
 "metadata": {
  "application/vnd.databricks.v1+notebook": {
   "computePreferences": null,
   "dashboards": [],
   "environmentMetadata": {
    "base_environment": "",
    "environment_version": "2"
   },
   "language": "python",
   "notebookMetadata": {
    "pythonIndentUnit": 2
   },
   "notebookName": "01 - Problem Definition",
   "widgets": {}
  },
  "language_info": {
   "name": "python"
  }
 },
 "nbformat": 4,
 "nbformat_minor": 0
}
