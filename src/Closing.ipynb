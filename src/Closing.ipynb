{
 "cells": [
  {
   "cell_type": "markdown",
   "metadata": {},
   "source": [
    "I know it is nevery always easy to follow all of the steps that I shared. Personally, I have to customize the process to be fit in different environments and projects. But the framework gives me a skeleton to follow and stick and communicate with business especially negotiate the timeline in a very fast changing and aching environment. Business requires fast moving and good solutions. How to strike a right balance is always one of the most important questions keeping me thinking always."
   ]
  },
  {
   "cell_type": "markdown",
   "metadata": {},
   "source": []
  }
 ],
 "metadata": {
  "language_info": {
   "name": "python"
  }
 },
 "nbformat": 4,
 "nbformat_minor": 2
}
